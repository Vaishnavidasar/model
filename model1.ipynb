{
 "cells": [
  {
   "cell_type": "code",
   "execution_count": 2,
   "metadata": {},
   "outputs": [],
   "source": [
    "import os\n",
    "import pandas as pd\n",
    "import numpy as np\n",
    "import matplotlib.pyplot as plt\n",
    "import sklearn.ensemble as ensemble\n",
    "from pre_processing import func\n",
    "from sklearn.datasets import make_classification\n",
    "from imblearn.over_sampling import RandomOverSampler\n",
    "from imblearn.under_sampling import RandomUnderSampler\n",
    "from collections import Counter"
   ]
  },
  {
   "cell_type": "code",
   "execution_count": 3,
   "metadata": {},
   "outputs": [
    {
     "data": {
      "text/plain": [
       "'C:\\\\Users\\\\nirup\\\\Downloads\\\\pipeline'"
      ]
     },
     "execution_count": 3,
     "metadata": {},
     "output_type": "execute_result"
    }
   ],
   "source": [
    "os.getcwd()"
   ]
  },
  {
   "cell_type": "code",
   "execution_count": 4,
   "metadata": {},
   "outputs": [],
   "source": [
    "train_data = pd.read_csv('train.csv')"
   ]
  },
  {
   "cell_type": "code",
   "execution_count": 5,
   "metadata": {},
   "outputs": [],
   "source": [
    "train_data = train_data.loc[train_data.nwords > 2, :]\n",
    "train_data = train_data.loc[train_data.nnumbers <= 3, :]\n",
    "train_data = train_data.loc[train_data.nwords <= 10, :]\n",
    "train_data = train_data.drop([\"Sentence\"],axis=1)\n",
    "X = train_data.drop(\"label\",axis=1)\n",
    "y = train_data.label"
   ]
  },
  {
   "cell_type": "code",
   "execution_count": 6,
   "metadata": {},
   "outputs": [
    {
     "name": "stdout",
     "output_type": "stream",
     "text": [
      "DecisionTreeClassifier()\n",
      "0.98055822906641\n"
     ]
    }
   ],
   "source": [
    "randomForest = ensemble.RandomForestClassifier(n_estimators=50,max_features=0.5,oob_score=True)\n",
    "randomForest.fit(X,y)\n",
    "\n",
    "print(randomForest.base_estimator_)\n",
    "\n",
    "print(randomForest.oob_score_)"
   ]
  },
  {
   "cell_type": "code",
   "execution_count": 7,
   "metadata": {},
   "outputs": [
    {
     "data": {
      "text/plain": [
       "GridSearchCV(cv=5, estimator=RandomForestClassifier(), n_jobs=-1,\n",
       "             param_grid={'max_features': ['auto', 'sqrt', 'log2', 0.1, 0.2, 0.3,\n",
       "                                          0.4, 0.5, 0.6, 0.7, 0.8, 0.9],\n",
       "                         'min_samples_split': [2, 4, 8],\n",
       "                         'n_estimators': [10, 20, 30, 40, 50, 60]})"
      ]
     },
     "execution_count": 7,
     "metadata": {},
     "output_type": "execute_result"
    }
   ],
   "source": [
    "from sklearn.model_selection import GridSearchCV\n",
    "estimator = ensemble.RandomForestClassifier()\n",
    "\n",
    "\n",
    "\n",
    "param_grid = { \n",
    "            \"n_estimators\"      : [10,20,30,40,50,60],\n",
    "            \"max_features\"      : [\"auto\", \"sqrt\", \"log2\",0.1,0.2,0.3,0.4,0.5,0.6,0.7,0.8,0.9],\n",
    "            \"min_samples_split\" : [2,4,8],\n",
    "            }\n",
    "grid = GridSearchCV(estimator, param_grid, n_jobs=-1, cv=5)   \n",
    "grid.fit(X, y)"
   ]
  },
  {
   "cell_type": "code",
   "execution_count": 8,
   "metadata": {},
   "outputs": [
    {
     "data": {
      "text/plain": [
       "(0.9822906641000962,\n",
       " {'max_features': 'sqrt', 'min_samples_split': 8, 'n_estimators': 40})"
      ]
     },
     "execution_count": 8,
     "metadata": {},
     "output_type": "execute_result"
    }
   ],
   "source": [
    "grid.best_score_ , grid.best_params_"
   ]
  },
  {
   "cell_type": "code",
   "execution_count": 9,
   "metadata": {},
   "outputs": [
    {
     "data": {
      "text/plain": [
       "RandomForestClassifier(max_features=0.3, min_samples_split=8, n_estimators=50,\n",
       "                       oob_score=True)"
      ]
     },
     "execution_count": 9,
     "metadata": {},
     "output_type": "execute_result"
    }
   ],
   "source": [
    "randomForest = ensemble.RandomForestClassifier(n_estimators=50,min_samples_split = 8,max_features=0.3,oob_score=True)\n",
    "randomForest.fit(X,y)"
   ]
  },
  {
   "cell_type": "code",
   "execution_count": 10,
   "metadata": {},
   "outputs": [],
   "source": [
    "import pickle"
   ]
  },
  {
   "cell_type": "code",
   "execution_count": 12,
   "metadata": {},
   "outputs": [],
   "source": [
    "with open('model_pickle','wb')as f:\n",
    "    pickle.dump(randomForest,f)"
   ]
  },
  {
   "cell_type": "code",
   "execution_count": 14,
   "metadata": {},
   "outputs": [],
   "source": [
    "with open('model_pickle','rb')as f:\n",
    "    rf=pickle.load(f)"
   ]
  },
  {
   "cell_type": "code",
   "execution_count": null,
   "metadata": {},
   "outputs": [],
   "source": []
  }
 ],
 "metadata": {
  "kernelspec": {
   "display_name": "Python 3",
   "language": "python",
   "name": "python3"
  },
  "language_info": {
   "codemirror_mode": {
    "name": "ipython",
    "version": 3
   },
   "file_extension": ".py",
   "mimetype": "text/x-python",
   "name": "python",
   "nbconvert_exporter": "python",
   "pygments_lexer": "ipython3",
   "version": "3.7.4"
  }
 },
 "nbformat": 4,
 "nbformat_minor": 2
}
